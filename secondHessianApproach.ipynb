{
 "cells": [
  {
   "cell_type": "markdown",
   "id": "4e1ee11d-5cfb-4159-b146-140745455aa2",
   "metadata": {},
   "source": [
    "# Calculate the matrix $K$ in a second manner\n",
    "The matrix $K$ is the Hessian of the harmonic bond potential\n",
    "$$V_B = \\sum_{i,j\\in \\mathbf{B}} \\frac{k_{i,j}}{2}(r_{i,j}-\\bar{r_{i,j}})^2,$$\n",
    "with $r_{i,j}$ the euclidean distance between particles $i$ and $j$. The set of bonded particles $\\mathbf{B}$ contains tuples, where the order matters!"
   ]
  },
  {
   "cell_type": "code",
   "execution_count": 1,
   "id": "d08aba07-9295-426a-80d9-09de3cf135bb",
   "metadata": {},
   "outputs": [
    {
     "data": {
      "application/vnd.jupyter.widget-view+json": {
       "model_id": "2483e81e9f4c43a187c5b5db774d67dc",
       "version_major": 2,
       "version_minor": 0
      },
      "text/plain": []
     },
     "metadata": {},
     "output_type": "display_data"
    }
   ],
   "source": [
    "from openff.toolkit import Molecule, Topology, ForceField\n",
    "from openff.interchange import Interchange\n",
    "from openmm.unit import kelvin, picoseconds, nanometer, kilojoule, mole, dalton, angstrom, kilocalorie, nanosecond, femtosecond, dimensionless\n",
    "from openmm import LangevinIntegrator, State, VerletIntegrator\n",
    "from openmm.app import Simulation, DCDReporter, StateDataReporter, CheckpointReporter\n",
    "from openmm.unit.quantity import Quantity\n",
    "from sys import stdout\n",
    "from IPython.display import HTML\n",
    "import matplotlib.pyplot as plt\n",
    "from matplotlib import animation\n",
    "import numpy as np\n",
    "import copy"
   ]
  },
  {
   "cell_type": "code",
   "execution_count": 2,
   "id": "5f3ba38b-1d74-4960-8c5a-81ae1c2033a7",
   "metadata": {},
   "outputs": [],
   "source": [
    "from openmm.app.forcefield import ForceField as OpenMMForceField\n",
    "from openmm.app import PDBFile"
   ]
  },
  {
   "cell_type": "code",
   "execution_count": 3,
   "id": "ed234a88-6e11-46aa-a567-4c67a1aa857b",
   "metadata": {},
   "outputs": [
    {
     "name": "stdout",
     "output_type": "stream",
     "text": [
      "[Vec3(x=-0.07890016058553162, y=-0.019816431697328638, z=-0.0), Vec3(x=-0.0006127160367289928, y=0.03917363361295281, z=-0.0), Vec3(x=0.07951287662226064, y=-0.01935720191562418, z=0.0)] nm\n"
     ]
    }
   ],
   "source": [
    "### 3. Choose parameters of the experiment\n",
    "temperature = 100*kelvin\n",
    "frictionCoeff = 0  # 1/picoseconds\n",
    "time_step = 0.0002*picoseconds\n",
    "total_steps = int(1*picoseconds / time_step)\n",
    "\n",
    "smiles_explicit_h = Molecule.from_smiles(\n",
    "    #\"[H][C]([H])([H])[C@@]([H])([C](=[O])[O-])[N+]([H])([H])[H]\",\n",
    "    #\"N1N=NN=N1\",\n",
    "    \"[H]O[H]\",\n",
    "    #\"N#N\",\n",
    "    hydrogens_are_explicit=False,\n",
    ")\n",
    "smiles_explicit_h.generate_conformers(n_conformers=1)\n",
    "\n",
    "sage = ForceField(\"openff_unconstrained-2.1.0.offxml\")\n",
    "interchange = Interchange.from_smirnoff(sage, [smiles_explicit_h])\n",
    "\n",
    "positions = interchange.positions.to_openmm()\n",
    "system = interchange.to_openmm_system()\n",
    "topology = Topology.from_molecules([smiles_explicit_h])\n",
    "\n",
    "original_positions = copy.deepcopy(interchange\n",
    "                                   .to_openmm_simulation(\n",
    "                                       LangevinIntegrator(temperature, frictionCoeff, time_step)\n",
    "                                   )\n",
    "                                   .context.getState(getPositions=True).getPositions())\n",
    "original_positions_numpy = copy.deepcopy(interchange\n",
    "                                   .to_openmm_simulation(\n",
    "                                       LangevinIntegrator(temperature, frictionCoeff, time_step)\n",
    "                                   )\n",
    "                                   .context.getState(getPositions=True).getPositions(True))\n",
    "print(original_positions)"
   ]
  },
  {
   "cell_type": "code",
   "execution_count": 4,
   "id": "4679546d-b31e-4c48-9bcb-507d9dc18c4d",
   "metadata": {},
   "outputs": [],
   "source": [
    "integrator = VerletIntegrator(time_step)\n",
    "simulation = Simulation(topology.to_openmm(), system, integrator)\n",
    "simulation.context.setPositions(positions)\n",
    "simulation.minimizeEnergy()"
   ]
  },
  {
   "cell_type": "code",
   "execution_count": 5,
   "id": "96a4d935-15c3-4014-86a0-8e2ca8c90273",
   "metadata": {},
   "outputs": [
    {
     "name": "stdout",
     "output_type": "stream",
     "text": [
      "[Vec3(x=-0.07890016058553162, y=-0.019816431697328638, z=-0.0), Vec3(x=-0.0006127160367289928, y=0.03917363361295281, z=-0.0), Vec3(x=0.07951287662226064, y=-0.01935720191562418, z=0.0)] nm\n"
     ]
    }
   ],
   "source": [
    "original_positions = copy.deepcopy(interchange\n",
    "                                   .to_openmm_simulation(\n",
    "                                       LangevinIntegrator(temperature, frictionCoeff, time_step)\n",
    "                                   )\n",
    "                                   .context.getState(getPositions=True).getPositions())\n",
    "original_positions_numpy = copy.deepcopy(interchange\n",
    "                                   .to_openmm_simulation(\n",
    "                                       LangevinIntegrator(temperature, frictionCoeff, time_step)\n",
    "                                   )\n",
    "                                   .context.getState(getPositions=True).getPositions(True))\n",
    "print(original_positions)"
   ]
  },
  {
   "cell_type": "code",
   "execution_count": 6,
   "id": "d3693596-a034-4311-8d79-037c9029d519",
   "metadata": {},
   "outputs": [],
   "source": [
    "bonds = sage.get_parameter_handler(\"Bonds\").find_matches(topology, unique=True)  # k units: kCal / Angstrom **2 / mole; length units: Angstrom\n",
    "m = Quantity(np.array([[atom.mass.m] for atom in topology.atoms]), dalton)   # Dalton\n"
   ]
  },
  {
   "cell_type": "code",
   "execution_count": 7,
   "id": "492db2eb-84bf-4b6e-99fd-ba226e2bab0d",
   "metadata": {},
   "outputs": [],
   "source": [
    "import scipy\n",
    "\n",
    "\n",
    "def compute_jacobian(positions: np.array, bonds:dict, topology: Topology):\n",
    "    '''The function computes the Hessian of the harmonic potential evaluated\n",
    "    at the initial positions of the particles.\n",
    "    '''\n",
    "    n = positions.size\n",
    "    K = Quantity(np.zeros((n, n)), unit=kilocalorie / (mole * angstrom**2))\n",
    "    for i in range(topology.n_atoms):\n",
    "        for j in range(i + 1, topology.n_atoms):\n",
    "            if bonds.get((i,j)):\n",
    "                k = bonds.get((i,j))\\\n",
    "                .parameter_type.k.to_openmm()#\\\n",
    "                #.value_in_unit(kilocalorie/(angstrom**2*mole))\n",
    "                r0 = bonds.get((i,j))\\\n",
    "                .parameter_type.length.to_openmm()#\\\n",
    "                #.value_in_unit(nanometer)    \n",
    "                difference = positions[i] - positions[j]\n",
    "                distance = Quantity(np.linalg.norm(difference), difference.unit)\n",
    "                K_small = k * distance ** (-2)\\\n",
    "                        * (-1 + (distance - r0) * distance ** (-1))\\\n",
    "                        * Quantity(np.outer(difference, difference), difference.unit ** 2)\n",
    "                add_for_diag = k * -(distance - r0) * distance ** (-1)\n",
    "                K_small += Quantity(np.diag(np.ones(3) * add_for_diag), add_for_diag.unit)\n",
    "                K[i * 3: (i + 1) * 3, j * 3: (j + 1) * 3] = K_small \n",
    "                #import pdb; pdb.set_trace()\n",
    "                K[j * 3: (j + 1) * 3, j * 3: (j + 1) * 3] -= K_small / 2\n",
    "                K[i * 3: (i + 1) * 3, i * 3: (i + 1) * 3] -= K_small / 2  # / 2 because of later + transpose\n",
    "    K = K + Quantity(K.transpose(), unit=K.unit)\n",
    "    return K"
   ]
  },
  {
   "cell_type": "code",
   "execution_count": 8,
   "id": "5f8d0805-552d-448b-8518-01c923c152d7",
   "metadata": {},
   "outputs": [],
   "source": [
    "def compute_bond_potential(positions, bonds, topology):\n",
    "    potential = Quantity(0, kilocalorie/mole)\n",
    "    for i in range(topology.n_atoms):\n",
    "        for j in range(i + 1, topology.n_atoms):\n",
    "            if bonds.get((i,j)):\n",
    "                k = bonds.get((i,j))\\\n",
    "                .parameter_type.k.to_openmm()#\\\n",
    "                #.value_in_unit(kilocalorie/(angstrom**2*mole))\n",
    "                r0 = bonds.get((i,j))\\\n",
    "                .parameter_type.length.to_openmm()#\\\n",
    "                #.value_in_unit(nanometer)    \n",
    "                difference = positions[i] - positions[j]\n",
    "                distance = Quantity(np.linalg.norm(difference), nanometer)\n",
    "                potential += (k / 2) * (distance - r0) ** 2\n",
    "    return potential\n",
    "\n",
    "def compute_bond_force(positions, bonds, topology):\n",
    "    n = positions.size\n",
    "    f = Quantity(np.zeros_like(positions), kilocalorie/(angstrom * mole))\n",
    "    for i in range(topology.n_atoms):\n",
    "        for j in range(i + 1, topology.n_atoms):\n",
    "            if bonds.get((i,j)):\n",
    "                k = bonds.get((i,j))\\\n",
    "                .parameter_type.k.to_openmm()#\\\n",
    "                #.value_in_unit(kilocalorie/(angstrom**2*mole))\n",
    "                r0 = bonds.get((i,j))\\\n",
    "                .parameter_type.length.to_openmm()#\\\n",
    "                #.value_in_unit(nanometer)    \n",
    "                difference = positions[i] - positions[j]\n",
    "                distance = Quantity(np.linalg.norm(difference), nanometer)\n",
    "                f[i] += k * (distance - r0) * distance ** (-1) * difference\n",
    "                f[j] -= k * (distance - r0) * distance ** (-1) * difference\n",
    "    return f"
   ]
  },
  {
   "cell_type": "code",
   "execution_count": 9,
   "id": "ee0a9c90-7795-450e-a9b7-06fc4af943d8",
   "metadata": {},
   "outputs": [],
   "source": [
    "#M_sqrt = np.kron(np.diag(np.sqrt(m.flatten())), np.eye(3))\n",
    "#M_sqrt_inv = np.kron(np.diag(1 / np.sqrt(m.flatten())), np.eye(3))\n",
    "M_sqrt = Quantity(np.kron(np.diag(np.sqrt(m.flatten())), np.eye(3)), m.unit ** (1/2))\n",
    "M_sqrt_inv = Quantity(np.kron(np.diag(1 / np.sqrt(m.flatten())), np.eye(3)), m.unit ** (-1/2))\n",
    "\n",
    "def matvec_quantity(A, b, transA=False):\n",
    "    unit = A.unit * b.unit\n",
    "    if transA:\n",
    "        A = Quantity(A.T, A.unit)\n",
    "    value = A.value_in_unit(A.unit) @ b.value_in_unit(b.unit).reshape(-1)\n",
    "    return Quantity(value, unit)\n",
    "\n",
    "def matmul_quantity(A, B):\n",
    "    unit = A.unit * B.unit\n",
    "    value = A.value_in_unit(A.unit) @ B.value_in_unit(B.unit)\n",
    "    return Quantity(value, unit)"
   ]
  },
  {
   "cell_type": "code",
   "execution_count": 10,
   "id": "dad4c2c7-3dae-4f98-baac-71dbb2f97079",
   "metadata": {},
   "outputs": [
    {
     "name": "stdout",
     "output_type": "stream",
     "text": [
      "0.06688451570735185 kcal/mol\n",
      "0.06688451572709911 kcal/mol\n",
      "-1.9747259383251503e-11 kcal/mol\n"
     ]
    }
   ],
   "source": [
    "newp = copy.deepcopy(original_positions_numpy)\n",
    "newp[0][0] += Quantity(0.000005, nanometer)\n",
    "new_pot = compute_bond_potential(newp, bonds, topology)\n",
    "diff = newp - original_positions_numpy\n",
    "app_pot = compute_bond_potential(original_positions_numpy, bonds, topology) \\\n",
    "            + matvec_quantity(compute_bond_force(original_positions_numpy, bonds, topology).reshape(-1), diff, True) \\\n",
    "            + 1/2 * matvec_quantity(matvec_quantity(compute_jacobian(original_positions_numpy, bonds, topology), diff.reshape(-1)), diff.reshape(-1), True).reduce_unit()\n",
    "print(new_pot)\n",
    "print(app_pot)\n",
    "print(new_pot - app_pot)"
   ]
  },
  {
   "cell_type": "code",
   "execution_count": 11,
   "id": "4a397bc2-d53d-4e39-a6f5-967e3a00a5c8",
   "metadata": {},
   "outputs": [],
   "source": [
    "k = bonds.get((0,1))\\\n",
    ".parameter_type.k.to_openmm()#\\\n",
    "#.value_in_unit(kilocalorie/(angstrom**2*mole))\n",
    "r0 = bonds.get((0,1))\\\n",
    ".parameter_type.length.to_openmm()"
   ]
  },
  {
   "cell_type": "code",
   "execution_count": 12,
   "id": "d73442e0-fd5f-424c-853f-2a89ccbca09a",
   "metadata": {},
   "outputs": [
    {
     "data": {
      "text/plain": [
       "(Quantity(value=1069.809209734, unit=kilocalorie/(angstrom**2*mole)),\n",
       " Quantity(value=0.981124525388, unit=angstrom))"
      ]
     },
     "execution_count": 12,
     "metadata": {},
     "output_type": "execute_result"
    }
   ],
   "source": [
    "k, r0"
   ]
  },
  {
   "cell_type": "code",
   "execution_count": 13,
   "id": "f299cb03-72c7-4e99-b600-076584d65bdb",
   "metadata": {},
   "outputs": [
    {
     "data": {
      "text/plain": [
       "(Quantity(value=0.0008821176493265526, unit=angstrom),\n",
       " Quantity(value=array([-0.07828744, -0.05899007,  0.        ]), unit=nanometer))"
      ]
     },
     "execution_count": 13,
     "metadata": {},
     "output_type": "execute_result"
    }
   ],
   "source": [
    "r0 - Quantity(np.linalg.norm(original_positions_numpy[0] - original_positions_numpy[1]), nanometer), (original_positions_numpy[0] - original_positions_numpy[1])"
   ]
  },
  {
   "cell_type": "code",
   "execution_count": 14,
   "id": "e13ba4ef-35d8-4c2a-82f3-1990f0e236d3",
   "metadata": {},
   "outputs": [],
   "source": [
    "original_positions_numpy[1][0] = original_positions_numpy[0][0] + r0"
   ]
  },
  {
   "cell_type": "code",
   "execution_count": 15,
   "id": "6c384592-1c88-44b1-bfb6-1545eda06912",
   "metadata": {},
   "outputs": [],
   "source": [
    "K = compute_jacobian(original_positions_numpy, bonds, topology)"
   ]
  },
  {
   "cell_type": "code",
   "execution_count": 16,
   "id": "9e82c942-3547-4688-8c49-0816e528202f",
   "metadata": {},
   "outputs": [
    {
     "data": {
      "text/plain": [
       "<matplotlib.collections.PathCollection at 0x7f7afbc54200>"
      ]
     },
     "execution_count": 16,
     "metadata": {},
     "output_type": "execute_result"
    },
    {
     "data": {
      "image/png": "[encoded data removed]",
      "text/plain": [
       "<Figure size 640x480 with 1 Axes>"
      ]
     },
     "metadata": {},
     "output_type": "display_data"
    }
   ],
   "source": [
    "eigvals = scipy.linalg.eigvals(K)\n",
    "plt.scatter(np.real(eigvals), np.imag(eigvals))"
   ]
  },
  {
   "cell_type": "code",
   "execution_count": 17,
   "id": "2c5b5a1d-e205-4014-9403-6a7152e2a59d",
   "metadata": {},
   "outputs": [
    {
     "data": {
      "text/plain": [
       "[-314.1998955774336,\n",
       " -281.1579804841642,\n",
       " -2.2213490914379726e-14,\n",
       " 1.3663433758840268e-14,\n",
       " 3.747870120518774e-14,\n",
       " 222.6641414369733,\n",
       " 261.7201109786512,\n",
       " 1858.2915631023868,\n",
       " 2426.95933028202]"
      ]
     },
     "execution_count": 17,
     "metadata": {},
     "output_type": "execute_result"
    }
   ],
   "source": [
    "sorted(np.real(eigvals))"
   ]
  },
  {
   "cell_type": "code",
   "execution_count": 18,
   "id": "ea9b3c2c-7d3f-4322-a449-7cffe0851453",
   "metadata": {},
   "outputs": [
    {
     "data": {
      "text/html": [
       "<div>\n",
       "<style scoped>\n",
       "    .dataframe tbody tr th:only-of-type {\n",
       "        vertical-align: middle;\n",
       "    }\n",
       "\n",
       "    .dataframe tbody tr th {\n",
       "        vertical-align: top;\n",
       "    }\n",
       "\n",
       "    .dataframe thead th {\n",
       "        text-align: right;\n",
       "    }\n",
       "</style>\n",
       "<table border=\"1\" class=\"dataframe\">\n",
       "  <thead>\n",
       "    <tr style=\"text-align: right;\">\n",
       "      <th></th>\n",
       "      <th>0</th>\n",
       "      <th>1</th>\n",
       "      <th>2</th>\n",
       "      <th>3</th>\n",
       "      <th>4</th>\n",
       "      <th>5</th>\n",
       "      <th>6</th>\n",
       "      <th>7</th>\n",
       "      <th>8</th>\n",
       "    </tr>\n",
       "  </thead>\n",
       "  <tbody>\n",
       "    <tr>\n",
       "      <th>0</th>\n",
       "      <td>826.370924</td>\n",
       "      <td>404.887282</td>\n",
       "      <td>0.000000</td>\n",
       "      <td>-826.370924</td>\n",
       "      <td>-404.887282</td>\n",
       "      <td>0.000000</td>\n",
       "      <td>0.000000</td>\n",
       "      <td>0.000000</td>\n",
       "      <td>0.000000</td>\n",
       "    </tr>\n",
       "    <tr>\n",
       "      <th>1</th>\n",
       "      <td>404.887282</td>\n",
       "      <td>396.399475</td>\n",
       "      <td>0.000000</td>\n",
       "      <td>-404.887282</td>\n",
       "      <td>-396.399475</td>\n",
       "      <td>0.000000</td>\n",
       "      <td>0.000000</td>\n",
       "      <td>0.000000</td>\n",
       "      <td>0.000000</td>\n",
       "    </tr>\n",
       "    <tr>\n",
       "      <th>2</th>\n",
       "      <td>0.000000</td>\n",
       "      <td>0.000000</td>\n",
       "      <td>152.961189</td>\n",
       "      <td>0.000000</td>\n",
       "      <td>0.000000</td>\n",
       "      <td>-152.961189</td>\n",
       "      <td>0.000000</td>\n",
       "      <td>0.000000</td>\n",
       "      <td>0.000000</td>\n",
       "    </tr>\n",
       "    <tr>\n",
       "      <th>3</th>\n",
       "      <td>-826.370924</td>\n",
       "      <td>-404.887282</td>\n",
       "      <td>0.000000</td>\n",
       "      <td>1290.272298</td>\n",
       "      <td>-219.340895</td>\n",
       "      <td>0.000000</td>\n",
       "      <td>-463.901374</td>\n",
       "      <td>624.228177</td>\n",
       "      <td>0.000000</td>\n",
       "    </tr>\n",
       "    <tr>\n",
       "      <th>4</th>\n",
       "      <td>-404.887282</td>\n",
       "      <td>-396.399475</td>\n",
       "      <td>0.000000</td>\n",
       "      <td>-219.340895</td>\n",
       "      <td>823.106229</td>\n",
       "      <td>0.000000</td>\n",
       "      <td>624.228177</td>\n",
       "      <td>-426.706754</td>\n",
       "      <td>0.000000</td>\n",
       "    </tr>\n",
       "    <tr>\n",
       "      <th>5</th>\n",
       "      <td>0.000000</td>\n",
       "      <td>0.000000</td>\n",
       "      <td>-152.961189</td>\n",
       "      <td>0.000000</td>\n",
       "      <td>0.000000</td>\n",
       "      <td>-26.239892</td>\n",
       "      <td>0.000000</td>\n",
       "      <td>0.000000</td>\n",
       "      <td>179.201081</td>\n",
       "    </tr>\n",
       "    <tr>\n",
       "      <th>6</th>\n",
       "      <td>0.000000</td>\n",
       "      <td>0.000000</td>\n",
       "      <td>0.000000</td>\n",
       "      <td>-463.901374</td>\n",
       "      <td>624.228177</td>\n",
       "      <td>0.000000</td>\n",
       "      <td>463.901374</td>\n",
       "      <td>-624.228177</td>\n",
       "      <td>0.000000</td>\n",
       "    </tr>\n",
       "    <tr>\n",
       "      <th>7</th>\n",
       "      <td>0.000000</td>\n",
       "      <td>0.000000</td>\n",
       "      <td>0.000000</td>\n",
       "      <td>624.228177</td>\n",
       "      <td>-426.706754</td>\n",
       "      <td>0.000000</td>\n",
       "      <td>-624.228177</td>\n",
       "      <td>426.706754</td>\n",
       "      <td>0.000000</td>\n",
       "    </tr>\n",
       "    <tr>\n",
       "      <th>8</th>\n",
       "      <td>0.000000</td>\n",
       "      <td>0.000000</td>\n",
       "      <td>0.000000</td>\n",
       "      <td>0.000000</td>\n",
       "      <td>0.000000</td>\n",
       "      <td>179.201081</td>\n",
       "      <td>0.000000</td>\n",
       "      <td>0.000000</td>\n",
       "      <td>-179.201081</td>\n",
       "    </tr>\n",
       "  </tbody>\n",
       "</table>\n",
       "</div>"
      ],
      "text/plain": [
       "            0           1           2            3           4           5  \\\n",
       "0  826.370924  404.887282    0.000000  -826.370924 -404.887282    0.000000   \n",
       "1  404.887282  396.399475    0.000000  -404.887282 -396.399475    0.000000   \n",
       "2    0.000000    0.000000  152.961189     0.000000    0.000000 -152.961189   \n",
       "3 -826.370924 -404.887282    0.000000  1290.272298 -219.340895    0.000000   \n",
       "4 -404.887282 -396.399475    0.000000  -219.340895  823.106229    0.000000   \n",
       "5    0.000000    0.000000 -152.961189     0.000000    0.000000  -26.239892   \n",
       "6    0.000000    0.000000    0.000000  -463.901374  624.228177    0.000000   \n",
       "7    0.000000    0.000000    0.000000   624.228177 -426.706754    0.000000   \n",
       "8    0.000000    0.000000    0.000000     0.000000    0.000000  179.201081   \n",
       "\n",
       "            6           7           8  \n",
       "0    0.000000    0.000000    0.000000  \n",
       "1    0.000000    0.000000    0.000000  \n",
       "2    0.000000    0.000000    0.000000  \n",
       "3 -463.901374  624.228177    0.000000  \n",
       "4  624.228177 -426.706754    0.000000  \n",
       "5    0.000000    0.000000  179.201081  \n",
       "6  463.901374 -624.228177    0.000000  \n",
       "7 -624.228177  426.706754    0.000000  \n",
       "8    0.000000    0.000000 -179.201081  "
      ]
     },
     "execution_count": 18,
     "metadata": {},
     "output_type": "execute_result"
    }
   ],
   "source": [
    "import pandas as pd\n",
    "pd.DataFrame(K)"
   ]
  },
  {
   "cell_type": "code",
   "execution_count": 19,
   "id": "841ad551-d40b-4988-b086-8da4121addaa",
   "metadata": {},
   "outputs": [
    {
     "ename": "NameError",
     "evalue": "name 'KK' is not defined",
     "output_type": "error",
     "traceback": [
      "\u001b[0;31m---------------------------------------------------------------------------\u001b[0m",
      "\u001b[0;31mNameError\u001b[0m                                 Traceback (most recent call last)",
      "Cell \u001b[0;32mIn[19], line 1\u001b[0m\n\u001b[0;32m----> 1\u001b[0m pd\u001b[38;5;241m.\u001b[39mDataFrame(\u001b[43mKK\u001b[49m)\n",
      "\u001b[0;31mNameError\u001b[0m: name 'KK' is not defined"
     ]
    }
   ],
   "source": [
    "pd.DataFrame(KK)"
   ]
  },
  {
   "cell_type": "code",
   "execution_count": null,
   "id": "17128a02-9279-4e5e-8599-37b814f2fd73",
   "metadata": {},
   "outputs": [],
   "source": [
    "K.unit, KK.unit"
   ]
  },
  {
   "cell_type": "code",
   "execution_count": 20,
   "id": "03805499-4d17-4175-bd53-53be2efd9cef",
   "metadata": {},
   "outputs": [
    {
     "data": {
      "text/plain": [
       "[-314.1998955774337,\n",
       " -281.157980484164,\n",
       " -1.2033564567779271e-13,\n",
       " -1.2033564567779271e-13,\n",
       " -1.4758803236202455e-14,\n",
       " 222.6641414369737,\n",
       " 261.7201109786514,\n",
       " 1858.2915631023839,\n",
       " 2426.9593302820235]"
      ]
     },
     "execution_count": 20,
     "metadata": {},
     "output_type": "execute_result"
    },
    {
     "data": {
      "image/png": "[encoded data removed]",
      "text/plain": [
       "<Figure size 640x480 with 1 Axes>"
      ]
     },
     "metadata": {},
     "output_type": "display_data"
    }
   ],
   "source": [
    "Omega2 = matmul_quantity(M_sqrt_inv, matmul_quantity(K, M_sqrt))\n",
    "eigvals = scipy.linalg.eigvals(Omega2)\n",
    "plt.scatter(np.real(eigvals), np.imag(eigvals))\n",
    "sorted(np.real(eigvals))"
   ]
  },
  {
   "cell_type": "code",
   "execution_count": 21,
   "id": "cbd53935-893c-418f-a0c3-613871d646bc",
   "metadata": {},
   "outputs": [],
   "source": [
    "def compute_hessian_v2(r_ini, bonds, topology):\n",
    "    '''The function computes the Jacobian of the spring force evaluated\n",
    "    at the initial positions of the particles.\n",
    "    Source: https://victoriacity.github.io/hessian/'''\n",
    "    n = np.size(r_ini)\n",
    "    K = Quantity(np.zeros((n, n)), kilocalorie / (mole * angstrom**2))\n",
    "    for i in range(topology.n_atoms):\n",
    "        for j in range(topology.n_atoms):\n",
    "            RiRj = (r_ini[i] - r_ini[j]).value_in_unit(angstrom)\n",
    "            rij = np.linalg.norm(RiRj) ** 2\n",
    "            if bonds.get((i,j)):\n",
    "                k = bonds.get((i,j))\\\n",
    "                .parameter_type.k.to_openmm()\n",
    "                r0 = bonds.get((i,j))\\\n",
    "                .parameter_type.length\\\n",
    "                .to_openmm().value_in_unit(angstrom) **2\n",
    "                l = -4 * k * np.outer(RiRj, RiRj)\n",
    "                r = -2 * k * (rij - r0) * np.eye(3)\n",
    "                K[i * 3: (i+1) * 3, j * 3: (j+1) * 3] = l + r\n",
    "                K[i * 3: (i+1) * 3, i * 3: (i+1) * 3] -= l + r\n",
    "    return K"
   ]
  },
  {
   "cell_type": "code",
   "execution_count": 22,
   "id": "f5c6cb64-15a8-43ba-9dda-72b692e3c3da",
   "metadata": {},
   "outputs": [],
   "source": [
    "KK = compute_hessian_v2(original_positions_numpy, bonds, topology)"
   ]
  },
  {
   "cell_type": "code",
   "execution_count": 23,
   "id": "546fd4d1-e32e-4a4e-9e67-60648b5b01bb",
   "metadata": {},
   "outputs": [
    {
     "data": {
      "text/plain": [
       "<matplotlib.collections.PathCollection at 0x7f7aec6d1910>"
      ]
     },
     "execution_count": 23,
     "metadata": {},
     "output_type": "execute_result"
    },
    {
     "data": {
      "image/png": "[encoded data removed]",
      "text/plain": [
       "<Figure size 640x480 with 1 Axes>"
      ]
     },
     "metadata": {},
     "output_type": "display_data"
    }
   ],
   "source": [
    "eigvals = scipy.linalg.eigvals(KK)\n",
    "plt.scatter(np.real(eigvals), np.imag(eigvals))"
   ]
  },
  {
   "cell_type": "code",
   "execution_count": 24,
   "id": "a13f456f-6f2a-4d3b-9b03-4285eedfb13b",
   "metadata": {},
   "outputs": [
    {
     "data": {
      "text/plain": [
       "[-928.2381798329144,\n",
       " -845.0288206419872,\n",
       " -4.1010801441351626e-13,\n",
       " 4.599556179884229e-14,\n",
       " 2.5931055151335666e-13,\n",
       " 1032.7626173329684,\n",
       " 1320.1279855907464,\n",
       " 5250.588632903082,\n",
       " 12606.101625313888]"
      ]
     },
     "execution_count": 24,
     "metadata": {},
     "output_type": "execute_result"
    }
   ],
   "source": [
    "sorted(np.real(eigvals))"
   ]
  },
  {
   "cell_type": "code",
   "execution_count": 25,
   "id": "2fbe08e3-5ea2-4812-bcdc-7f16f1447bc1",
   "metadata": {},
   "outputs": [
    {
     "data": {
      "text/plain": [
       "[-928.2381798329136,\n",
       " -845.0288206419875,\n",
       " -2.657249904975899e-13,\n",
       " -1.63482057046096e-13,\n",
       " 3.3706266969178976e-14,\n",
       " 1032.7626173329686,\n",
       " 1320.127985590747,\n",
       " 5250.588632903079,\n",
       " 12606.101625313891]"
      ]
     },
     "execution_count": 25,
     "metadata": {},
     "output_type": "execute_result"
    },
    {
     "data": {
      "image/png": "[encoded data removed]",
      "text/plain": [
       "<Figure size 640x480 with 1 Axes>"
      ]
     },
     "metadata": {},
     "output_type": "display_data"
    }
   ],
   "source": [
    "Omega2 = matmul_quantity(M_sqrt_inv, matmul_quantity(KK, M_sqrt))\n",
    "eigvals = scipy.linalg.eigvals(Omega2)\n",
    "plt.scatter(np.real(eigvals), np.imag(eigvals))\n",
    "sorted(np.real(eigvals))"
   ]
  },
  {
   "cell_type": "code",
   "execution_count": null,
   "id": "f7c7b68f-6929-47b6-8336-41169f1f0835",
   "metadata": {},
   "outputs": [],
   "source": [
    "pd.DataFrame(KK)"
   ]
  },
  {
   "cell_type": "markdown",
   "id": "07b6aeff-808a-42cd-b9c9-7365b1493d0e",
   "metadata": {},
   "source": [
    "## Krylov based Eigenvalue decomposition?\n",
    "Instead of trying to explicitly calculate the function $\\exp(\\Omega))$ we calculate the Hessenberg $H_m$ for $\\Omega^2$ and then perform $f: x\\rightarrow \\sqrt(x)$ on that. Or first just calculate the Ritz values."
   ]
  },
  {
   "cell_type": "code",
   "execution_count": 32,
   "id": "382789a9-bce7-4544-8287-c26f25fda1f1",
   "metadata": {},
   "outputs": [],
   "source": [
    "w = scipy.sparse.linalg.eigsh(Omega2.T.T, return_eigenvectors=False, mode=\"SM\")"
   ]
  },
  {
   "cell_type": "code",
   "execution_count": 33,
   "id": "d238150a-9ee2-48e1-8293-0527d300eff0",
   "metadata": {},
   "outputs": [
    {
     "data": {
      "text/plain": [
       "[-9175.77749914631,\n",
       " -823.4153741169713,\n",
       " 850.9828016806432,\n",
       " 1369.6063642021534,\n",
       " 5207.2146065135075,\n",
       " 21442.81787656928]"
      ]
     },
     "execution_count": 33,
     "metadata": {},
     "output_type": "execute_result"
    }
   ],
   "source": [
    "sorted(w)"
   ]
  },
  {
   "cell_type": "code",
   "execution_count": 34,
   "id": "151d0e21-465f-493e-831f-a3daf661dc62",
   "metadata": {},
   "outputs": [
    {
     "data": {
      "text/plain": [
       "(9, 9)"
      ]
     },
     "execution_count": 34,
     "metadata": {},
     "output_type": "execute_result"
    }
   ],
   "source": [
    "Omega2.shape"
   ]
  }
 ],
 "metadata": {
  "kernelspec": {
   "display_name": "Python 3 (ipykernel)",
   "language": "python",
   "name": "python3"
  },
  "language_info": {
   "codemirror_mode": {
    "name": "ipython",
    "version": 3
   },
   "file_extension": ".py",
   "mimetype": "text/x-python",
   "name": "python",
   "nbconvert_exporter": "python",
   "pygments_lexer": "ipython3",
   "version": "3.12.3"
  }
 },
 "nbformat": 4,
 "nbformat_minor": 5
}
