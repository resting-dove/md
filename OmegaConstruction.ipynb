{
 "cells": [
  {
   "cell_type": "code",
   "execution_count": 1,
   "id": "71f95244-0314-4dd0-82ea-219464c1360d",
   "metadata": {},
   "outputs": [
    {
     "data": {
      "application/vnd.jupyter.widget-view+json": {
       "model_id": "da270e1e7497422388f9d0b59b70cdeb",
       "version_major": 2,
       "version_minor": 0
      },
      "text/plain": []
     },
     "metadata": {},
     "output_type": "display_data"
    }
   ],
   "source": [
    "from openff.toolkit import Molecule, Topology, ForceField\n",
    "from openff.interchange import Interchange\n",
    "from openmm.unit import kelvin, picoseconds, nanometer, kilojoule, mole, dalton, angstrom, kilocalorie, nanosecond, femtosecond\n",
    "from openmm import LangevinIntegrator, State, VerletIntegrator\n",
    "from openmm.app import Simulation, DCDReporter, StateDataReporter, CheckpointReporter\n",
    "from openmm.unit.quantity import Quantity\n",
    "from sys import stdout\n",
    "from IPython.display import HTML\n",
    "import matplotlib.pyplot as plt\n",
    "from matplotlib import animation\n",
    "import numpy as np\n",
    "import copy"
   ]
  },
  {
   "cell_type": "code",
   "execution_count": 2,
   "id": "68adab6a-7668-41fc-9bb7-45d5a363a045",
   "metadata": {},
   "outputs": [],
   "source": [
    "from openmm.app.forcefield import ForceField as OpenMMForceField\n",
    "from openmm.app import PDBFile"
   ]
  },
  {
   "cell_type": "code",
   "execution_count": 3,
   "id": "d1efcc2f-e170-4ddd-a48b-5706ef983a1b",
   "metadata": {},
   "outputs": [],
   "source": [
    "def animate_md(r:np.array, topology):\n",
    "    # Setup the figure and axes...\n",
    "    fig, ax = plt.subplots(figsize=(6,6))\n",
    "    ax.set(xlim=(-3.5, 3.5), ylim=(-3.5, 3.5), ylabel='Angstrom',\n",
    "           xlabel='Angstrom', title=f'{next(topology.molecules).name} movement')\n",
    "    \n",
    "    ## drawing and animating \n",
    "    scat = ax.scatter(r[0,:,0], r[0,:,1], marker='o', c=range(topology.n_atoms), s=1000)\n",
    "    \n",
    "    def animate(i):\n",
    "        scat.set_offsets(r[100*i])\n",
    "    \n",
    "    ani = animation.FuncAnimation(fig, animate, frames=int(n/ 100))\n",
    "    plt.close()\n",
    "    return HTML(ani.to_jshtml())"
   ]
  },
  {
   "cell_type": "code",
   "execution_count": 4,
   "id": "14350bab-97b0-40dc-b4e6-4f909d4b2028",
   "metadata": {},
   "outputs": [],
   "source": [
    "### 3. Choose parameters of the experiment\n",
    "temperature = 100*kelvin\n",
    "frictionCoeff = 0  # 1/picoseconds\n",
    "time_step = 0.0002*picoseconds\n",
    "total_steps = int(1*picoseconds / time_step)\n",
    "\n",
    "smiles_explicit_h = Molecule.from_smiles(\n",
    "    #\"[H][C]([H])([H])[C@@]([H])([C](=[O])[O-])[N+]([H])([H])[H]\",\n",
    "    \"N1N=NN=N1\",\n",
    "    hydrogens_are_explicit=False,\n",
    ")\n",
    "smiles_explicit_h.generate_conformers(n_conformers=1)\n",
    "\n",
    "sage = ForceField(\"openff_unconstrained-2.1.0.offxml\")\n",
    "interchange = Interchange.from_smirnoff(sage, [smiles_explicit_h])\n",
    "\n",
    "positions = interchange.positions.to_openmm()\n",
    "system = interchange.to_openmm_system()\n",
    "topology = Topology.from_molecules([smiles_explicit_h])\n",
    "\n",
    "original_positions = copy.deepcopy(interchange\n",
    "                                   .to_openmm_simulation(\n",
    "                                       LangevinIntegrator(temperature, frictionCoeff, time_step)\n",
    "                                   )\n",
    "                                   .context.getState(getPositions=True).getPositions())\n",
    "original_positions_numpy = copy.deepcopy(interchange\n",
    "                                   .to_openmm_simulation(\n",
    "                                       LangevinIntegrator(temperature, frictionCoeff, time_step)\n",
    "                                   )\n",
    "                                   .context.getState(getPositions=True).getPositions(True))\n",
    "#positions[0][0] += Quantity(0.05, nanometer)"
   ]
  },
  {
   "cell_type": "code",
   "execution_count": 5,
   "id": "1b1489c9-2d8d-4e11-9546-8f7bfef86f5e",
   "metadata": {},
   "outputs": [],
   "source": [
    "system_no_blf = interchange.to_openmm_system()\n",
    "system_no_blf.removeForce(3)  # seems like bond length force is this one currently\n",
    "integrator = VerletIntegrator(time_step)\n",
    "simulation_no_blf = Simulation(topology.to_openmm(), system_no_blf, integrator)\n",
    "simulation_no_blf.context.setPositions(positions)"
   ]
  },
  {
   "cell_type": "code",
   "execution_count": 6,
   "id": "72bbd7a3-c2b4-42a5-bb73-52c3308cee8a",
   "metadata": {},
   "outputs": [],
   "source": [
    "bonds = sage.get_parameter_handler(\"Bonds\").find_matches(topology)  # k units: kCal / Angstrom **2 / mole; length units: Angstrom\n",
    "m = Quantity(np.array([[atom.mass.m] for atom in topology.atoms]), dalton)   # Dalton\n",
    "def get_f(r, topology, bonds):\n",
    "    f = Quantity(np.zeros_like(r), kilojoule/(nanometer*mole))\n",
    "    for i in range(topology.n_atoms):\n",
    "        for j in range(topology.n_atoms):\n",
    "            if i != j and bonds.get((i,j)):\n",
    "                rij = r[i] - r[j]\n",
    "                rij_abs = np.linalg.norm(rij)\n",
    "                k = bonds.get((i,j)).parameter_type.k.to_openmm()\n",
    "                r0 = bonds.get((i,j)).parameter_type.length.to_openmm()\n",
    "                f[i] -= k * (rij_abs - r0) * rij / rij_abs \n",
    "    return f\n"
   ]
  },
  {
   "cell_type": "code",
   "execution_count": 7,
   "id": "7699189d-ca9d-429f-8f13-3b461f4ca7c0",
   "metadata": {},
   "outputs": [],
   "source": [
    "import scipy\n",
    "\n",
    "\n",
    "def compute_jacobian(r_ini, topology):\n",
    "    '''The function computes the Jacobian of the spring force evaluated\n",
    "    at the initial positions of the particles.'''\n",
    "    n = np.size(r_ini)\n",
    "    K = Quantity(np.zeros((n, n)), kilocalorie / (mole * angstrom**2))\n",
    "    for i in range(topology.n_atoms):\n",
    "        for j in range(topology.n_atoms):\n",
    "            if i == j:\n",
    "                for other in np.arange(topology.n_atoms)[np.arange(topology.n_atoms) != i]:\n",
    "                    RiRother = (r_ini[i] - r_ini[other]).value_in_unit(nanometer)\n",
    "                    riother = np.linalg.norm(RiRother) ** 2\n",
    "                    if bonds.get((i,other)):\n",
    "                        k = bonds.get((i,other))\\\n",
    "                        .parameter_type.k.to_openmm()\n",
    "                        r0 = bonds.get((i,other))\\\n",
    "                        .parameter_type.length.to_openmm()\\\n",
    "                        .value_in_unit(nanometer) ** 2\n",
    "                    else:\n",
    "                        k = Quantity(0, kilocalorie / angstrom ** 2 / mole)\n",
    "                        r0 = 0\n",
    "                    l = 4 * k * np.outer(RiRother, RiRother)\n",
    "                    r = 2 * k * (riother - r0) * np.eye(3)\n",
    "                    K[i * 3: (i+1) * 3, j * 3: (j+1) * 3] -= l + r\n",
    "            else:\n",
    "                RiRj = (r_ini[i] - r_ini[j]).value_in_unit(nanometer)\n",
    "                rij = np.linalg.norm(RiRj) ** 2\n",
    "                if bonds.get((i,j)):\n",
    "                    k = bonds.get((i,j))\\\n",
    "                    .parameter_type.k.to_openmm()\n",
    "                    r0 = bonds.get((i,j))\\\n",
    "                    .parameter_type.length\\\n",
    "                    .to_openmm().value_in_unit(nanometer) **2\n",
    "                else:\n",
    "                    k = Quantity(0, kilocalorie / angstrom ** 2 / mole)\n",
    "                    r0 = 0\n",
    "                l = 4 * k * np.outer(RiRj, RiRj)\n",
    "                r = 2 * k * (rij - r0) * np.eye(3)\n",
    "                K[i * 3: (i+1) * 3, j * 3: (j+1) * 3] = l + r \n",
    "    return K\n",
    "\n",
    "def get_rotation(v, u):\n",
    "    '''Compute an approximate rotation between two vectors.\n",
    "    This is the first approach described in [1] as using geometric algebra.\n",
    "    [1] M. Müller, J. Dorsey, L. McMillan, R. Jagnow, and B. Cutler, “Stable real-time deformations,” \n",
    "    in Proceedings of the 2002 ACM SIGGRAPH/Eurographics symposium on Computer animation, \n",
    "    San Antonio Texas: ACM, Jul. 2002, pp. 49–54. doi: 10.1145/545261.545269.\n",
    "    '''\n",
    "    F = u.T @ np.array(v)  # .T turns Quantity into np.array. array @ Quantity not defined\n",
    "    U, S, Vh = scipy.linalg.svd(F)\n",
    "    R = Vh.T @ U.T\n",
    "    return R\n",
    "\n",
    "    \n",
    "def get_repeated_rot(r_current, r_old, base_atom_idx, n_atoms, topology):\n",
    "    '''Compute the rotation between the old positions r_old and the current positions r_current\n",
    "    with respect to atoms bonded to the atom with base_atom_idx. Then insert that rotation block wise\n",
    "    into a large rotation matrix for the entire molecule.\n",
    "    '''\n",
    "    RxLarge = np.zeros((n_atoms, n_atoms))\n",
    "    Rx_invLarge = np.zeros((n_atoms, n_atoms))\n",
    "    \n",
    "    relevant_atoms = [base_atom_idx] + [bonded_atom.molecule_atom_index for\n",
    "                            bonded_atom in topology.atom(base_atom_idx).bonded_atoms]\n",
    "    Rx = get_rotation(r_current[relevant_atoms], r_old[relevant_atoms])\n",
    "    RxLarge = np.kron(np.eye(n_atoms), Rx)\n",
    "    Rx_invLarge = np.kron(np.eye(n_atoms), Rx.T)\n",
    "    return Quantity(RxLarge), Quantity(Rx_invLarge), Quantity(Rx)"
   ]
  },
  {
   "cell_type": "code",
   "execution_count": 8,
   "id": "dcdb7c90-6752-4510-a771-837d98bd6b7f",
   "metadata": {},
   "outputs": [],
   "source": [
    "def get_Rx(r_current, r_old, topology):\n",
    "    RxLarge = np.zeros((r_current.size, r_current.size))\n",
    "    Rx_invLarge = np.zeros((r_current.size, r_current.size))\n",
    "    for i in range(topology.n_atoms):\n",
    "        relevant_atoms = list(range(topology.n_atoms))\n",
    "        Rx = get_rotation(r_current[relevant_atoms], r_old[relevant_atoms])\n",
    "        RxLarge[i*3: (i+1)*3, i*3: (i+1)*3] = Rx\n",
    "        Rx_invLarge[i*3: (i+1)*3, i*3: (i+1)*3] = Rx.T\n",
    "    return RxLarge, Rx_invLarge"
   ]
  },
  {
   "cell_type": "markdown",
   "id": "f0b6fb38-b733-4b7c-8d90-6e8cc87a9222",
   "metadata": {},
   "source": [
    "## Separate into fast and slow parts\n",
    "$$\\ddot{R}(t) + AR(t) + M^{-1}\\tilde{G}(R(t)) = 0,$$\n",
    "with $A=M^{-1}QKQ^T$ not necessarily symmetric and $\\tilde{G}=G(R(t)) - QKR_0$. $G(R(t))$ is the sum of the forces from OpenMM.\n",
    "\n",
    "Later we will want to compute the square root of the matrix $A$, so it needs to be positive definite. For this Michels et al transform the coordinates from $R(t)$ to $\\chi(t) = M^{-1/2}R(t)$. The differential equation then becomes\n",
    "$$\\ddot{\\chi}(t) + \\Omega^2\\chi(t) + \\Lambda(\\chi(t)),$$\n",
    "with $\\Omega^2=M^{1/2}AM^{-1/2}$ symmetric."
   ]
  },
  {
   "cell_type": "code",
   "execution_count": 9,
   "id": "af0671da-6faf-4b86-9734-e8b23bf7e556",
   "metadata": {},
   "outputs": [],
   "source": [
    "def matvec_quantity(A, b):\n",
    "    unit = A.unit * b.unit\n",
    "    value = A.value_in_unit(A.unit) @ b.value_in_unit(b.unit).flatten()\n",
    "    return Quantity(value, unit)\n",
    "\n",
    "def matmul_quantity(A, B):\n",
    "    unit = A.unit * B.unit\n",
    "    value = A.value_in_unit(A.unit) @ B.value_in_unit(B.unit)\n",
    "    return Quantity(value, unit)"
   ]
  },
  {
   "cell_type": "code",
   "execution_count": 10,
   "id": "2b26a917-94d6-4556-bae2-38560abee2ba",
   "metadata": {},
   "outputs": [],
   "source": [
    "system_no_blf = interchange.to_openmm_system()\n",
    "system_no_blf.removeForce(3)  # seems like bond length force is this one currently\n",
    "integrator = VerletIntegrator(time_step)\n",
    "simulation_no_blf = Simulation(topology.to_openmm(), system_no_blf, integrator)\n",
    "simulation_no_blf.context.setPositions(positions)"
   ]
  },
  {
   "cell_type": "code",
   "execution_count": 11,
   "id": "67875f1c-c09b-49ee-a2ec-c4332cb6f698",
   "metadata": {},
   "outputs": [],
   "source": [
    "K = compute_jacobian(original_positions, topology)\n",
    "M_inv = Quantity(np.kron(np.diag(1 / m.flatten()), np.eye(3)), 1 / m.unit)\n",
    "f0 = get_f(original_positions, topology, bonds)\n",
    "M_sqrt = Quantity(np.kron(np.diag(np.sqrt(m.flatten())), np.eye(3)), m.unit ** (1/2))\n",
    "M_sqrt_inv = Quantity(np.kron(np.diag(1 / np.sqrt(m.flatten())), np.eye(3)), m.unit ** (-1/2))"
   ]
  },
  {
   "cell_type": "code",
   "execution_count": 12,
   "id": "a604ace7-3d75-429a-9e4f-29d53872ddb5",
   "metadata": {},
   "outputs": [
    {
     "ename": "LinAlgError",
     "evalue": "1-th leading minor of the array is not positive definite",
     "output_type": "error",
     "traceback": [
      "\u001b[0;31m---------------------------------------------------------------------------\u001b[0m",
      "\u001b[0;31mLinAlgError\u001b[0m                               Traceback (most recent call last)",
      "Cell \u001b[0;32mIn[12], line 22\u001b[0m\n\u001b[1;32m     16\u001b[0m F \u001b[38;5;241m=\u001b[39m state\u001b[38;5;241m.\u001b[39mgetForces(\u001b[38;5;28;01mTrue\u001b[39;00m)\u001b[38;5;241m.\u001b[39mreshape(\u001b[38;5;241m-\u001b[39m\u001b[38;5;241m1\u001b[39m)\n\u001b[1;32m     17\u001b[0m G \u001b[38;5;241m=\u001b[39m matmul_quantity(M_sqrt_inv, (F \u001b[38;5;241m-\u001b[39m matmul_quantity(Quantity(QLarge), \n\u001b[1;32m     18\u001b[0m                                          matvec_quantity(K, original_positions_numpy)\n\u001b[1;32m     19\u001b[0m                                                     )\n\u001b[1;32m     20\u001b[0m                                 )\n\u001b[1;32m     21\u001b[0m                    )\n\u001b[0;32m---> 22\u001b[0m \u001b[38;5;28;01massert\u001b[39;00m(\u001b[43mscipy\u001b[49m\u001b[38;5;241;43m.\u001b[39;49m\u001b[43mlinalg\u001b[49m\u001b[38;5;241;43m.\u001b[39;49m\u001b[43mcholesky\u001b[49m\u001b[43m(\u001b[49m\u001b[43mOmega2\u001b[49m\u001b[43m)\u001b[49m)\n\u001b[1;32m     23\u001b[0m v \u001b[38;5;241m=\u001b[39m Quantity(v\u001b[38;5;241m.\u001b[39mflatten() \u001b[38;5;241m+\u001b[39m time_step \u001b[38;5;241m*\u001b[39m M_inv \u001b[38;5;241m@\u001b[39m (QLarge \u001b[38;5;241m@\u001b[39m np\u001b[38;5;241m.\u001b[39marray(K) \u001b[38;5;241m@\u001b[39m \\\n\u001b[1;32m     24\u001b[0m     (Q_invLarge \u001b[38;5;241m@\u001b[39m p\u001b[38;5;241m.\u001b[39mflatten())),\n\u001b[1;32m     25\u001b[0m              nanometer \u001b[38;5;241m/\u001b[39m picoseconds)\n\u001b[1;32m     27\u001b[0m v \u001b[38;5;241m=\u001b[39m v\u001b[38;5;241m.\u001b[39mreshape((topology\u001b[38;5;241m.\u001b[39mn_atoms,\u001b[38;5;241m3\u001b[39m))\n",
      "File \u001b[0;32m~/miniforge3/envs/molecular/lib/python3.12/site-packages/scipy/linalg/_decomp_cholesky.py:88\u001b[0m, in \u001b[0;36mcholesky\u001b[0;34m(a, lower, overwrite_a, check_finite)\u001b[0m\n\u001b[1;32m     44\u001b[0m \u001b[38;5;28;01mdef\u001b[39;00m \u001b[38;5;21mcholesky\u001b[39m(a, lower\u001b[38;5;241m=\u001b[39m\u001b[38;5;28;01mFalse\u001b[39;00m, overwrite_a\u001b[38;5;241m=\u001b[39m\u001b[38;5;28;01mFalse\u001b[39;00m, check_finite\u001b[38;5;241m=\u001b[39m\u001b[38;5;28;01mTrue\u001b[39;00m):\n\u001b[1;32m     45\u001b[0m \u001b[38;5;250m    \u001b[39m\u001b[38;5;124;03m\"\"\"\u001b[39;00m\n\u001b[1;32m     46\u001b[0m \u001b[38;5;124;03m    Compute the Cholesky decomposition of a matrix.\u001b[39;00m\n\u001b[1;32m     47\u001b[0m \n\u001b[0;32m   (...)\u001b[0m\n\u001b[1;32m     86\u001b[0m \n\u001b[1;32m     87\u001b[0m \u001b[38;5;124;03m    \"\"\"\u001b[39;00m\n\u001b[0;32m---> 88\u001b[0m     c, lower \u001b[38;5;241m=\u001b[39m \u001b[43m_cholesky\u001b[49m\u001b[43m(\u001b[49m\u001b[43ma\u001b[49m\u001b[43m,\u001b[49m\u001b[43m \u001b[49m\u001b[43mlower\u001b[49m\u001b[38;5;241;43m=\u001b[39;49m\u001b[43mlower\u001b[49m\u001b[43m,\u001b[49m\u001b[43m \u001b[49m\u001b[43moverwrite_a\u001b[49m\u001b[38;5;241;43m=\u001b[39;49m\u001b[43moverwrite_a\u001b[49m\u001b[43m,\u001b[49m\u001b[43m \u001b[49m\u001b[43mclean\u001b[49m\u001b[38;5;241;43m=\u001b[39;49m\u001b[38;5;28;43;01mTrue\u001b[39;49;00m\u001b[43m,\u001b[49m\n\u001b[1;32m     89\u001b[0m \u001b[43m                         \u001b[49m\u001b[43mcheck_finite\u001b[49m\u001b[38;5;241;43m=\u001b[39;49m\u001b[43mcheck_finite\u001b[49m\u001b[43m)\u001b[49m\n\u001b[1;32m     90\u001b[0m     \u001b[38;5;28;01mreturn\u001b[39;00m c\n",
      "File \u001b[0;32m~/miniforge3/envs/molecular/lib/python3.12/site-packages/scipy/linalg/_decomp_cholesky.py:36\u001b[0m, in \u001b[0;36m_cholesky\u001b[0;34m(a, lower, overwrite_a, clean, check_finite)\u001b[0m\n\u001b[1;32m     34\u001b[0m c, info \u001b[38;5;241m=\u001b[39m potrf(a1, lower\u001b[38;5;241m=\u001b[39mlower, overwrite_a\u001b[38;5;241m=\u001b[39moverwrite_a, clean\u001b[38;5;241m=\u001b[39mclean)\n\u001b[1;32m     35\u001b[0m \u001b[38;5;28;01mif\u001b[39;00m info \u001b[38;5;241m>\u001b[39m \u001b[38;5;241m0\u001b[39m:\n\u001b[0;32m---> 36\u001b[0m     \u001b[38;5;28;01mraise\u001b[39;00m LinAlgError(\u001b[38;5;124m\"\u001b[39m\u001b[38;5;132;01m%d\u001b[39;00m\u001b[38;5;124m-th leading minor of the array is not positive \u001b[39m\u001b[38;5;124m\"\u001b[39m\n\u001b[1;32m     37\u001b[0m                       \u001b[38;5;124m\"\u001b[39m\u001b[38;5;124mdefinite\u001b[39m\u001b[38;5;124m\"\u001b[39m \u001b[38;5;241m%\u001b[39m info)\n\u001b[1;32m     38\u001b[0m \u001b[38;5;28;01mif\u001b[39;00m info \u001b[38;5;241m<\u001b[39m \u001b[38;5;241m0\u001b[39m:\n\u001b[1;32m     39\u001b[0m     \u001b[38;5;28;01mraise\u001b[39;00m \u001b[38;5;167;01mValueError\u001b[39;00m(\u001b[38;5;124mf\u001b[39m\u001b[38;5;124m'\u001b[39m\u001b[38;5;124mLAPACK reported an illegal value in \u001b[39m\u001b[38;5;132;01m{\u001b[39;00m\u001b[38;5;241m-\u001b[39minfo\u001b[38;5;132;01m}\u001b[39;00m\u001b[38;5;124m-th argument\u001b[39m\u001b[38;5;124m'\u001b[39m\n\u001b[1;32m     40\u001b[0m                      \u001b[38;5;124m'\u001b[39m\u001b[38;5;124mon entry to \u001b[39m\u001b[38;5;124m\"\u001b[39m\u001b[38;5;124mPOTRF\u001b[39m\u001b[38;5;124m\"\u001b[39m\u001b[38;5;124m.\u001b[39m\u001b[38;5;124m'\u001b[39m)\n",
      "\u001b[0;31mLinAlgError\u001b[0m: 1-th leading minor of the array is not positive definite"
     ]
    }
   ],
   "source": [
    "r = np.empty((total_steps, topology.n_atoms, 3)) \n",
    "for n in range(total_steps):\n",
    "    state = simulation_no_blf.context.getState(getForces=True, \n",
    "                                               getPositions=True, \n",
    "                                               getVelocities=True, \n",
    "                                               getEnergy=True)\n",
    "    p = state.getPositions(True)\n",
    "    v = state.getVelocities(True)\n",
    "    xi = matvec_quantity(M_sqrt, p.reshape(-1))\n",
    "    QLarge, Q_invLarge = get_Rx(p, original_positions_numpy, topology)\n",
    "    QLarge = Quantity(QLarge)\n",
    "    Q_invLarge = Quantity(Q_invLarge)\n",
    "    QTsqrtM = matmul_quantity(Q_invLarge, M_sqrt)\n",
    "    Omega2 = matmul_quantity(Quantity(QTsqrtM.T, QTsqrtM.unit), \n",
    "                          matmul_quantity(K, QTsqrtM))\n",
    "    F = state.getForces(True).reshape(-1)\n",
    "    G = matmul_quantity(M_sqrt_inv, (F - matmul_quantity(Quantity(QLarge), \n",
    "                                             matvec_quantity(K, original_positions_numpy)\n",
    "                                                        )\n",
    "                                    )\n",
    "                       )\n",
    "    assert(scipy.linalg.cholesky(Omega2))\n",
    "    v = Quantity(v.flatten() + time_step * M_inv @ (QLarge @ np.array(K) @ \\\n",
    "        (Q_invLarge @ p.flatten())),\n",
    "                 nanometer / picoseconds)\n",
    "    \n",
    "    v = v.reshape((topology.n_atoms,3))\n",
    "    p = state.getPositions(True) + time_step * v\n",
    "    simulation_no_blf.context.setPositions(p)\n",
    "    simulation_no_blf.context.setVelocities(v)\n",
    "    simulation_no_blf.step(1)\n",
    "    r[n] = state.getPositions(True) * 10  # nanometer -> angstrom\n",
    "    if n % 1000 == 0:\n",
    "        #print(state.getForces())\n",
    "        print(state.getKineticEnergy())\n",
    "animate_md(r, topology)"
   ]
  },
  {
   "cell_type": "markdown",
   "id": "2d07c70c-a580-4687-919c-e5bef9d5afc7",
   "metadata": {},
   "source": [
    "### It turns out $\\Omega^2$ is not symmetric or positive definite in our implementation.\n",
    "Possibly this is because we are using a different rotation implementation than Michels et al. Let's try the second implementation proposed by Mueller et al."
   ]
  },
  {
   "cell_type": "code",
   "execution_count": 13,
   "id": "e423cbf0-7f50-441b-baf6-5519ef9436aa",
   "metadata": {},
   "outputs": [],
   "source": [
    "def get_rotation_v2(u, v):\n",
    "    '''Compute an approximate rotation between two vectors.\n",
    "    This is the second approach described in [1]. It is based on something else.\n",
    "    Assume the particle ``in the center'' of this complex is first in the vectors.\n",
    "    [1] M. Müller, J. Dorsey, L. McMillan, R. Jagnow, and B. Cutler, “Stable real-time deformations,” \n",
    "    in Proceedings of the 2002 ACM SIGGRAPH/Eurographics symposium on Computer animation, \n",
    "    San Antonio Texas: ACM, Jul. 2002, pp. 49–54. doi: 10.1145/545261.545269.\n",
    "    '''\n",
    "    assert(v.shape[0] > 3)\n",
    "    assert(v.shape[1] == 3)\n",
    "    v_edges = v[1:] - v[0]\n",
    "    u_edges = u[1:] - u[0]\n",
    "    v1 = v_edges[:3].mean(0)\n",
    "    v1 = v1 / np.linalg.norm(v1)\n",
    "    v2 = np.cross(v1, v_edges[0])\n",
    "    v2 = v2 / np.linalg.norm(v2)\n",
    "    v3 = np.cross(v1, v2)\n",
    "    v3 = v3 / np.linalg.norm(v3)\n",
    "    VT = np.array([v1, v2, v3])\n",
    "    assert(VT.shape == (3, 3))\n",
    "    u1 = u_edges[:3].mean(0)\n",
    "    u1 = u1 / np.linalg.norm(u1)\n",
    "    u2 = np.cross(u1, u_edges[0])\n",
    "    u2 = u2 / np.linalg.norm(u2)\n",
    "    u3 = np.cross(u1, u2)\n",
    "    u3 = u3 / np.linalg.norm(u3)\n",
    "    UT = np.array([u1, u2, u3])\n",
    "    return UT.T @ VT"
   ]
  },
  {
   "cell_type": "markdown",
   "id": "df37c269-9758-4861-b7d0-8345936ef078",
   "metadata": {},
   "source": [
    "First let's do a quick sanity check for the rotations produced here."
   ]
  },
  {
   "cell_type": "code",
   "execution_count": 14,
   "id": "912c2350-08f0-4cf2-83ea-999ba6821a4a",
   "metadata": {},
   "outputs": [],
   "source": [
    "from scipy.spatial.transform import Rotation as R\n",
    "r = R.from_euler('x', 88) * R.from_euler('yz', [99, 77]) * R.from_euler('xyz', [11, 33, 55])\n",
    "a = original_positions_numpy[:4]\n",
    "b = r.apply(a)\n",
    "rot = get_rotation_v2(b, a)\n",
    "approx = (rot.T @ b.T).T\n",
    "assert(np.all(np.isclose(approx, a)))"
   ]
  },
  {
   "cell_type": "markdown",
   "id": "4ba9f5a6-7cb2-4745-859a-075fcd1eaff6",
   "metadata": {},
   "source": [
    "Now test again if the matrix is symmetric."
   ]
  },
  {
   "cell_type": "code",
   "execution_count": 15,
   "id": "1d2a1f64-0e47-442f-983d-fae1cceff3bc",
   "metadata": {},
   "outputs": [],
   "source": [
    "def get_Rx_v2(r_current, r_old, topology):\n",
    "    RxLarge = np.zeros((r_current.size, r_current.size))\n",
    "    Rx_invLarge = np.zeros((r_current.size, r_current.size))\n",
    "    for i in range(topology.n_atoms):\n",
    "        relevant_atoms = list(range(topology.n_atoms))\n",
    "        Rx = get_rotation_v2(r_current[relevant_atoms], r_old[relevant_atoms])\n",
    "        RxLarge[i*3: (i+1)*3, i*3: (i+1)*3] = Rx\n",
    "        Rx_invLarge[i*3: (i+1)*3, i*3: (i+1)*3] = Rx.T\n",
    "    return RxLarge, Rx_invLarge"
   ]
  },
  {
   "cell_type": "code",
   "execution_count": 16,
   "id": "aba8d2f5-3c22-47aa-ad5b-0a80810b5cf4",
   "metadata": {},
   "outputs": [],
   "source": [
    "system_no_blf = interchange.to_openmm_system()\n",
    "system_no_blf.removeForce(3)  # seems like bond length force is this one currently\n",
    "integrator = VerletIntegrator(time_step)\n",
    "simulation_no_blf = Simulation(topology.to_openmm(), system_no_blf, integrator)\n",
    "simulation_no_blf.context.setPositions(positions)"
   ]
  },
  {
   "cell_type": "code",
   "execution_count": 17,
   "id": "fd2328d8-0935-4076-a09f-6f5a3d33384f",
   "metadata": {},
   "outputs": [],
   "source": [
    "K = compute_jacobian(original_positions, topology)\n",
    "M_inv = Quantity(np.kron(np.diag(1 / m.flatten()), np.eye(3)), 1 / m.unit)\n",
    "f0 = get_f(original_positions, topology, bonds)\n",
    "M_sqrt = Quantity(np.kron(np.diag(np.sqrt(m.flatten())), np.eye(3)), m.unit ** (1/2))\n",
    "M_sqrt_inv = Quantity(np.kron(np.diag(1 / np.sqrt(m.flatten())), np.eye(3)), m.unit ** (-1/2))"
   ]
  },
  {
   "cell_type": "code",
   "execution_count": 18,
   "id": "a6213067-90fb-41fc-874b-bc9800554cc8",
   "metadata": {},
   "outputs": [
    {
     "ename": "LinAlgError",
     "evalue": "1-th leading minor of the array is not positive definite",
     "output_type": "error",
     "traceback": [
      "\u001b[0;31m---------------------------------------------------------------------------\u001b[0m",
      "\u001b[0;31mLinAlgError\u001b[0m                               Traceback (most recent call last)",
      "Cell \u001b[0;32mIn[18], line 22\u001b[0m\n\u001b[1;32m     16\u001b[0m F \u001b[38;5;241m=\u001b[39m state\u001b[38;5;241m.\u001b[39mgetForces(\u001b[38;5;28;01mTrue\u001b[39;00m)\u001b[38;5;241m.\u001b[39mreshape(\u001b[38;5;241m-\u001b[39m\u001b[38;5;241m1\u001b[39m)\n\u001b[1;32m     17\u001b[0m G \u001b[38;5;241m=\u001b[39m matmul_quantity(M_sqrt_inv, (F \u001b[38;5;241m-\u001b[39m matmul_quantity(Quantity(QLarge), \n\u001b[1;32m     18\u001b[0m                                          matvec_quantity(K, original_positions_numpy)\n\u001b[1;32m     19\u001b[0m                                                     )\n\u001b[1;32m     20\u001b[0m                                 )\n\u001b[1;32m     21\u001b[0m                    )\n\u001b[0;32m---> 22\u001b[0m \u001b[38;5;28;01massert\u001b[39;00m(\u001b[43mscipy\u001b[49m\u001b[38;5;241;43m.\u001b[39;49m\u001b[43mlinalg\u001b[49m\u001b[38;5;241;43m.\u001b[39;49m\u001b[43mcholesky\u001b[49m\u001b[43m(\u001b[49m\u001b[43mOmega2\u001b[49m\u001b[43m)\u001b[49m)\n\u001b[1;32m     23\u001b[0m v \u001b[38;5;241m=\u001b[39m Quantity(v\u001b[38;5;241m.\u001b[39mflatten() \u001b[38;5;241m+\u001b[39m time_step \u001b[38;5;241m*\u001b[39m M_inv \u001b[38;5;241m@\u001b[39m (QLarge \u001b[38;5;241m@\u001b[39m np\u001b[38;5;241m.\u001b[39marray(K) \u001b[38;5;241m@\u001b[39m \\\n\u001b[1;32m     24\u001b[0m     (Q_invLarge \u001b[38;5;241m@\u001b[39m p\u001b[38;5;241m.\u001b[39mflatten())),\n\u001b[1;32m     25\u001b[0m              nanometer \u001b[38;5;241m/\u001b[39m picoseconds)\n\u001b[1;32m     27\u001b[0m v \u001b[38;5;241m=\u001b[39m v\u001b[38;5;241m.\u001b[39mreshape((topology\u001b[38;5;241m.\u001b[39mn_atoms,\u001b[38;5;241m3\u001b[39m))\n",
      "File \u001b[0;32m~/miniforge3/envs/molecular/lib/python3.12/site-packages/scipy/linalg/_decomp_cholesky.py:88\u001b[0m, in \u001b[0;36mcholesky\u001b[0;34m(a, lower, overwrite_a, check_finite)\u001b[0m\n\u001b[1;32m     44\u001b[0m \u001b[38;5;28;01mdef\u001b[39;00m \u001b[38;5;21mcholesky\u001b[39m(a, lower\u001b[38;5;241m=\u001b[39m\u001b[38;5;28;01mFalse\u001b[39;00m, overwrite_a\u001b[38;5;241m=\u001b[39m\u001b[38;5;28;01mFalse\u001b[39;00m, check_finite\u001b[38;5;241m=\u001b[39m\u001b[38;5;28;01mTrue\u001b[39;00m):\n\u001b[1;32m     45\u001b[0m \u001b[38;5;250m    \u001b[39m\u001b[38;5;124;03m\"\"\"\u001b[39;00m\n\u001b[1;32m     46\u001b[0m \u001b[38;5;124;03m    Compute the Cholesky decomposition of a matrix.\u001b[39;00m\n\u001b[1;32m     47\u001b[0m \n\u001b[0;32m   (...)\u001b[0m\n\u001b[1;32m     86\u001b[0m \n\u001b[1;32m     87\u001b[0m \u001b[38;5;124;03m    \"\"\"\u001b[39;00m\n\u001b[0;32m---> 88\u001b[0m     c, lower \u001b[38;5;241m=\u001b[39m \u001b[43m_cholesky\u001b[49m\u001b[43m(\u001b[49m\u001b[43ma\u001b[49m\u001b[43m,\u001b[49m\u001b[43m \u001b[49m\u001b[43mlower\u001b[49m\u001b[38;5;241;43m=\u001b[39;49m\u001b[43mlower\u001b[49m\u001b[43m,\u001b[49m\u001b[43m \u001b[49m\u001b[43moverwrite_a\u001b[49m\u001b[38;5;241;43m=\u001b[39;49m\u001b[43moverwrite_a\u001b[49m\u001b[43m,\u001b[49m\u001b[43m \u001b[49m\u001b[43mclean\u001b[49m\u001b[38;5;241;43m=\u001b[39;49m\u001b[38;5;28;43;01mTrue\u001b[39;49;00m\u001b[43m,\u001b[49m\n\u001b[1;32m     89\u001b[0m \u001b[43m                         \u001b[49m\u001b[43mcheck_finite\u001b[49m\u001b[38;5;241;43m=\u001b[39;49m\u001b[43mcheck_finite\u001b[49m\u001b[43m)\u001b[49m\n\u001b[1;32m     90\u001b[0m     \u001b[38;5;28;01mreturn\u001b[39;00m c\n",
      "File \u001b[0;32m~/miniforge3/envs/molecular/lib/python3.12/site-packages/scipy/linalg/_decomp_cholesky.py:36\u001b[0m, in \u001b[0;36m_cholesky\u001b[0;34m(a, lower, overwrite_a, clean, check_finite)\u001b[0m\n\u001b[1;32m     34\u001b[0m c, info \u001b[38;5;241m=\u001b[39m potrf(a1, lower\u001b[38;5;241m=\u001b[39mlower, overwrite_a\u001b[38;5;241m=\u001b[39moverwrite_a, clean\u001b[38;5;241m=\u001b[39mclean)\n\u001b[1;32m     35\u001b[0m \u001b[38;5;28;01mif\u001b[39;00m info \u001b[38;5;241m>\u001b[39m \u001b[38;5;241m0\u001b[39m:\n\u001b[0;32m---> 36\u001b[0m     \u001b[38;5;28;01mraise\u001b[39;00m LinAlgError(\u001b[38;5;124m\"\u001b[39m\u001b[38;5;132;01m%d\u001b[39;00m\u001b[38;5;124m-th leading minor of the array is not positive \u001b[39m\u001b[38;5;124m\"\u001b[39m\n\u001b[1;32m     37\u001b[0m                       \u001b[38;5;124m\"\u001b[39m\u001b[38;5;124mdefinite\u001b[39m\u001b[38;5;124m\"\u001b[39m \u001b[38;5;241m%\u001b[39m info)\n\u001b[1;32m     38\u001b[0m \u001b[38;5;28;01mif\u001b[39;00m info \u001b[38;5;241m<\u001b[39m \u001b[38;5;241m0\u001b[39m:\n\u001b[1;32m     39\u001b[0m     \u001b[38;5;28;01mraise\u001b[39;00m \u001b[38;5;167;01mValueError\u001b[39;00m(\u001b[38;5;124mf\u001b[39m\u001b[38;5;124m'\u001b[39m\u001b[38;5;124mLAPACK reported an illegal value in \u001b[39m\u001b[38;5;132;01m{\u001b[39;00m\u001b[38;5;241m-\u001b[39minfo\u001b[38;5;132;01m}\u001b[39;00m\u001b[38;5;124m-th argument\u001b[39m\u001b[38;5;124m'\u001b[39m\n\u001b[1;32m     40\u001b[0m                      \u001b[38;5;124m'\u001b[39m\u001b[38;5;124mon entry to \u001b[39m\u001b[38;5;124m\"\u001b[39m\u001b[38;5;124mPOTRF\u001b[39m\u001b[38;5;124m\"\u001b[39m\u001b[38;5;124m.\u001b[39m\u001b[38;5;124m'\u001b[39m)\n",
      "\u001b[0;31mLinAlgError\u001b[0m: 1-th leading minor of the array is not positive definite"
     ]
    }
   ],
   "source": [
    "r = np.empty((total_steps, topology.n_atoms, 3)) \n",
    "for n in range(total_steps):\n",
    "    state = simulation_no_blf.context.getState(getForces=True, \n",
    "                                               getPositions=True, \n",
    "                                               getVelocities=True, \n",
    "                                               getEnergy=True)\n",
    "    p = state.getPositions(True)\n",
    "    v = state.getVelocities(True)\n",
    "    xi = matvec_quantity(M_sqrt, p.reshape(-1))\n",
    "    QLarge, Q_invLarge = get_Rx_v2(p, original_positions_numpy, topology)\n",
    "    QLarge = Quantity(QLarge)\n",
    "    Q_invLarge = Quantity(Q_invLarge)\n",
    "    QTsqrtM = matmul_quantity(Q_invLarge, M_sqrt)\n",
    "    Omega2 = matmul_quantity(Quantity(QTsqrtM.T, QTsqrtM.unit), \n",
    "                          matmul_quantity(K, QTsqrtM))\n",
    "    F = state.getForces(True).reshape(-1)\n",
    "    G = matmul_quantity(M_sqrt_inv, (F - matmul_quantity(Quantity(QLarge), \n",
    "                                             matvec_quantity(K, original_positions_numpy)\n",
    "                                                        )\n",
    "                                    )\n",
    "                       )\n",
    "    assert(scipy.linalg.cholesky(Omega2))\n",
    "    v = Quantity(v.flatten() + time_step * M_inv @ (QLarge @ np.array(K) @ \\\n",
    "        (Q_invLarge @ p.flatten())),\n",
    "                 nanometer / picoseconds)\n",
    "    \n",
    "    v = v.reshape((topology.n_atoms,3))\n",
    "    p = state.getPositions(True) + time_step * v\n",
    "    simulation_no_blf.context.setPositions(p)\n",
    "    simulation_no_blf.context.setVelocities(v)\n",
    "    simulation_no_blf.step(1)\n",
    "    r[n] = state.getPositions(True) * 10  # nanometer -> angstrom\n",
    "    if n % 1000 == 0:\n",
    "        #print(state.getForces())\n",
    "        print(state.getKineticEnergy())\n",
    "animate_md(r, topology)"
   ]
  },
  {
   "cell_type": "markdown",
   "id": "6a5a8323-0325-4c18-89e6-5c0bbb581fca",
   "metadata": {},
   "source": [
    "### Similarly to before the matrix $\\Omega^2$ is not positive definite."
   ]
  },
  {
   "cell_type": "code",
   "execution_count": 28,
   "id": "9c4f32cb-4313-40bc-adac-134d2fe6739c",
   "metadata": {},
   "outputs": [
    {
     "data": {
      "text/plain": [
       "<matplotlib.collections.PathCollection at 0x7f56c38eeb10>"
      ]
     },
     "execution_count": 28,
     "metadata": {},
     "output_type": "execute_result"
    },
    {
     "data": {
      "image/png": "[encoded data removed]",
      "text/plain": [
       "<Figure size 640x480 with 1 Axes>"
      ]
     },
     "metadata": {},
     "output_type": "display_data"
    }
   ],
   "source": [
    "eigvals = scipy.linalg.eigvals(Omega2)\n",
    "plt.scatter(np.real(eigvals), np.imag(eigvals))"
   ]
  },
  {
   "cell_type": "code",
   "execution_count": 30,
   "id": "4c6dab7b-2c07-43f5-b0f5-299c7cde2d1f",
   "metadata": {},
   "outputs": [
    {
     "data": {
      "text/plain": [
       "Quantity(value=array([[-7.98571393e+02, -5.52568234e+01, -3.79689480e+02,\n",
       "         9.04716199e+01, -2.16650122e+02,  1.05449885e+02,\n",
       "         0.00000000e+00,  0.00000000e+00,  0.00000000e+00,\n",
       "         0.00000000e+00,  0.00000000e+00,  0.00000000e+00,\n",
       "         1.88732513e+02,  2.86746724e+02,  3.81135514e+01,\n",
       "         1.39323762e+02, -3.98087027e+00,  6.33424000e+01],\n",
       "       [-5.52568234e+01, -7.24500797e+02,  1.45789895e+02,\n",
       "        -2.16650122e+02,  3.56878409e+02, -1.88620534e+02,\n",
       "         0.00000000e+00,  0.00000000e+00,  0.00000000e+00,\n",
       "         0.00000000e+00,  0.00000000e+00,  0.00000000e+00,\n",
       "         2.86746724e+02,  3.44897524e+02,  4.98798457e+01,\n",
       "        -3.98087027e+00,  6.09609767e+00, -1.89099723e+00],\n",
       "       [-3.79689480e+02,  1.45789895e+02, -1.71862471e+02,\n",
       "         1.05449885e+02, -1.88620534e+02,  6.11586323e+01,\n",
       "         0.00000000e+00,  0.00000000e+00,  0.00000000e+00,\n",
       "         0.00000000e+00,  0.00000000e+00,  0.00000000e+00,\n",
       "         3.81135514e+01,  4.98798457e+01, -2.37428495e+01,\n",
       "         6.33424000e+01, -1.89099723e+00,  3.60662287e+01],\n",
       "       [ 9.04716199e+01, -2.16650122e+02,  1.05449885e+02,\n",
       "        -9.34174377e+02, -6.40812959e+01, -4.33962883e+02,\n",
       "         8.43702757e+02,  2.80731418e+02,  3.28512998e+02,\n",
       "         0.00000000e+00,  0.00000000e+00,  0.00000000e+00,\n",
       "         0.00000000e+00,  0.00000000e+00,  0.00000000e+00,\n",
       "         0.00000000e+00,  0.00000000e+00,  0.00000000e+00],\n",
       "       [-2.16650122e+02,  3.56878409e+02, -1.88620534e+02,\n",
       "        -6.40812959e+01, -4.58497587e+02,  7.83468131e+01,\n",
       "         2.80731418e+02,  1.01619177e+02,  1.10273721e+02,\n",
       "         0.00000000e+00,  0.00000000e+00,  0.00000000e+00,\n",
       "         0.00000000e+00,  0.00000000e+00,  0.00000000e+00,\n",
       "         0.00000000e+00,  0.00000000e+00,  0.00000000e+00],\n",
       "       [ 1.05449885e+02, -1.88620534e+02,  6.11586323e+01,\n",
       "        -4.33962883e+02,  7.83468131e+01, -1.97585925e+02,\n",
       "         3.28512998e+02,  1.10273721e+02,  1.36427293e+02,\n",
       "         0.00000000e+00,  0.00000000e+00,  0.00000000e+00,\n",
       "         0.00000000e+00,  0.00000000e+00,  0.00000000e+00,\n",
       "         0.00000000e+00,  0.00000000e+00,  0.00000000e+00],\n",
       "       [ 0.00000000e+00,  0.00000000e+00,  0.00000000e+00,\n",
       "         8.43702757e+02,  2.80731418e+02,  3.28512998e+02,\n",
       "        -8.45373733e+02, -3.22186260e+02, -3.21021561e+02,\n",
       "         1.67097623e+00,  4.14548419e+01, -7.49143625e+00,\n",
       "         0.00000000e+00,  0.00000000e+00,  0.00000000e+00,\n",
       "         0.00000000e+00,  0.00000000e+00,  0.00000000e+00],\n",
       "       [ 0.00000000e+00,  0.00000000e+00,  0.00000000e+00,\n",
       "         2.80731418e+02,  1.01619177e+02,  1.10273721e+02,\n",
       "        -3.22186260e+02, -5.38545475e+02, -3.09102018e+01,\n",
       "         4.14548419e+01,  4.36926298e+02, -7.93635189e+01,\n",
       "         0.00000000e+00,  0.00000000e+00,  0.00000000e+00,\n",
       "         0.00000000e+00,  0.00000000e+00,  0.00000000e+00],\n",
       "       [ 0.00000000e+00,  0.00000000e+00,  0.00000000e+00,\n",
       "         3.28512998e+02,  1.10273721e+02,  1.36427293e+02,\n",
       "        -3.21021561e+02, -3.09102018e+01, -1.48527216e+02,\n",
       "        -7.49143625e+00, -7.93635189e+01,  1.20999236e+01,\n",
       "         0.00000000e+00,  0.00000000e+00,  0.00000000e+00,\n",
       "         0.00000000e+00,  0.00000000e+00,  0.00000000e+00],\n",
       "       [ 0.00000000e+00,  0.00000000e+00,  0.00000000e+00,\n",
       "         0.00000000e+00,  0.00000000e+00,  0.00000000e+00,\n",
       "         1.67097623e+00,  4.14548419e+01, -7.49143625e+00,\n",
       "        -7.27272728e+02,  2.33820509e+02, -3.93066248e+02,\n",
       "         7.25601752e+02, -2.75275351e+02,  4.00557684e+02,\n",
       "         0.00000000e+00,  0.00000000e+00,  0.00000000e+00],\n",
       "       [ 0.00000000e+00,  0.00000000e+00,  0.00000000e+00,\n",
       "         0.00000000e+00,  0.00000000e+00,  0.00000000e+00,\n",
       "         4.14548419e+01,  4.36926298e+02, -7.93635189e+01,\n",
       "         2.33820509e+02, -5.44199991e+02,  2.31846887e+02,\n",
       "        -2.75275351e+02,  1.07273693e+02, -1.52483368e+02,\n",
       "         0.00000000e+00,  0.00000000e+00,  0.00000000e+00],\n",
       "       [ 0.00000000e+00,  0.00000000e+00,  0.00000000e+00,\n",
       "         0.00000000e+00,  0.00000000e+00,  0.00000000e+00,\n",
       "        -7.49143625e+00, -7.93635189e+01,  1.20999236e+01,\n",
       "        -3.93066248e+02,  2.31846887e+02, -2.36463489e+02,\n",
       "         4.00557684e+02, -1.52483368e+02,  2.24363565e+02,\n",
       "         0.00000000e+00,  0.00000000e+00,  0.00000000e+00],\n",
       "       [ 1.88732513e+02,  2.86746724e+02,  3.81135514e+01,\n",
       "         0.00000000e+00,  0.00000000e+00,  0.00000000e+00,\n",
       "         0.00000000e+00,  0.00000000e+00,  0.00000000e+00,\n",
       "         7.25601752e+02, -2.75275351e+02,  4.00557684e+02,\n",
       "        -9.14334265e+02, -1.14713728e+01, -4.38671235e+02,\n",
       "         0.00000000e+00,  0.00000000e+00,  0.00000000e+00],\n",
       "       [ 2.86746724e+02,  3.44897524e+02,  4.98798457e+01,\n",
       "         0.00000000e+00,  0.00000000e+00,  0.00000000e+00,\n",
       "         0.00000000e+00,  0.00000000e+00,  0.00000000e+00,\n",
       "        -2.75275351e+02,  1.07273693e+02, -1.52483368e+02,\n",
       "        -1.14713728e+01, -4.52171217e+02,  1.02603522e+02,\n",
       "         0.00000000e+00,  0.00000000e+00,  0.00000000e+00],\n",
       "       [ 3.81135514e+01,  4.98798457e+01, -2.37428495e+01,\n",
       "         0.00000000e+00,  0.00000000e+00,  0.00000000e+00,\n",
       "         0.00000000e+00,  0.00000000e+00,  0.00000000e+00,\n",
       "         4.00557684e+02, -1.52483368e+02,  2.24363565e+02,\n",
       "        -4.38671235e+02,  1.02603522e+02, -2.00620716e+02,\n",
       "         0.00000000e+00,  0.00000000e+00,  0.00000000e+00],\n",
       "       [ 1.39323762e+02, -3.98087027e+00,  6.33424000e+01,\n",
       "         0.00000000e+00,  0.00000000e+00,  0.00000000e+00,\n",
       "         0.00000000e+00,  0.00000000e+00,  0.00000000e+00,\n",
       "         0.00000000e+00,  0.00000000e+00,  0.00000000e+00,\n",
       "         0.00000000e+00,  0.00000000e+00,  0.00000000e+00,\n",
       "        -3.73745367e+01,  1.06789524e+00, -1.69920250e+01],\n",
       "       [-3.98087027e+00,  6.09609767e+00, -1.89099723e+00,\n",
       "         0.00000000e+00,  0.00000000e+00,  0.00000000e+00,\n",
       "         0.00000000e+00,  0.00000000e+00,  0.00000000e+00,\n",
       "         0.00000000e+00,  0.00000000e+00,  0.00000000e+00,\n",
       "         0.00000000e+00,  0.00000000e+00,  0.00000000e+00,\n",
       "         1.06789524e+00, -1.63531922e+00,  5.07272732e-01],\n",
       "       [ 6.33424000e+01, -1.89099723e+00,  3.60662287e+01,\n",
       "         0.00000000e+00,  0.00000000e+00,  0.00000000e+00,\n",
       "         0.00000000e+00,  0.00000000e+00,  0.00000000e+00,\n",
       "         0.00000000e+00,  0.00000000e+00,  0.00000000e+00,\n",
       "         0.00000000e+00,  0.00000000e+00,  0.00000000e+00,\n",
       "        -1.69920250e+01,  5.07272732e-01, -9.67500854e+00]]), unit=dalton*kilocalorie/(angstrom**2*mole))"
      ]
     },
     "execution_count": 30,
     "metadata": {},
     "output_type": "execute_result"
    }
   ],
   "source": [
    "Omega2"
   ]
  },
  {
   "cell_type": "code",
   "execution_count": 34,
   "id": "b593ab84-9004-4465-ad38-d590316a5894",
   "metadata": {},
   "outputs": [
    {
     "data": {
      "text/plain": [
       "(array([0.+0.j, 0.+0.j]),\n",
       " array([[ 1.00000000e+000+0.j,  1.00000000e+000+0.j],\n",
       "        [ 0.00000000e+000+0.j, -2.00416836e-292-0.j]]))"
      ]
     },
     "execution_count": 34,
     "metadata": {},
     "output_type": "execute_result"
    }
   ],
   "source": [
    "scipy.linalg.eig(np.array([[0,1+0j],[0,0]]))"
   ]
  },
  {
   "cell_type": "code",
   "execution_count": 36,
   "id": "8d70cc92-a7d5-49e6-af66-3ed11c1dbe42",
   "metadata": {},
   "outputs": [
    {
     "data": {
      "text/plain": [
       "array([[7.3890561, 7.3890561],\n",
       "       [0.       , 7.3890561]])"
      ]
     },
     "execution_count": 36,
     "metadata": {},
     "output_type": "execute_result"
    }
   ],
   "source": [
    "scipy.linalg.expm(np.array([[2,1],[0,2]]))"
   ]
  }
 ],
 "metadata": {
  "kernelspec": {
   "display_name": "Python 3 (ipykernel)",
   "language": "python",
   "name": "python3"
  },
  "language_info": {
   "codemirror_mode": {
    "name": "ipython",
    "version": 3
   },
   "file_extension": ".py",
   "mimetype": "text/x-python",
   "name": "python",
   "nbconvert_exporter": "python",
   "pygments_lexer": "ipython3",
   "version": "3.12.3"
  }
 },
 "nbformat": 4,
 "nbformat_minor": 5
}
